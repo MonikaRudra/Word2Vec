{
  "nbformat": 4,
  "nbformat_minor": 0,
  "metadata": {
    "colab": {
      "provenance": [],
      "toc_visible": true,
      "authorship_tag": "ABX9TyMezSdgw7JcGiWJIO5tbE+A",
      "include_colab_link": true
    },
    "kernelspec": {
      "name": "python3",
      "display_name": "Python 3"
    },
    "language_info": {
      "name": "python"
    }
  },
  "cells": [
    {
      "cell_type": "markdown",
      "metadata": {
        "id": "view-in-github",
        "colab_type": "text"
      },
      "source": [
        "<a href=\"https://colab.research.google.com/github/MonikaRudra/Word2Vec/blob/main/word2vec.ipynb\" target=\"_parent\"><img src=\"https://colab.research.google.com/assets/colab-badge.svg\" alt=\"Open In Colab\"/></a>"
      ]
    },
    {
      "cell_type": "code",
      "source": [],
      "metadata": {
        "id": "pe702PEyTbZ2"
      },
      "execution_count": null,
      "outputs": []
    },
    {
      "cell_type": "code",
      "execution_count": 1,
      "metadata": {
        "id": "JitNTODVs5H7"
      },
      "outputs": [],
      "source": [
        "from gensim.models import  Word2Vec"
      ]
    },
    {
      "cell_type": "code",
      "source": [
        "sentences = [\"This is a Cute Dog. My Cat is Cute\"\n",
        "             ]"
      ],
      "metadata": {
        "id": "cTVhyuyztM9z"
      },
      "execution_count": 5,
      "outputs": []
    },
    {
      "cell_type": "code",
      "source": [
        "pip install nltk"
      ],
      "metadata": {
        "colab": {
          "base_uri": "https://localhost:8080/"
        },
        "id": "HevJ1k7bUUyz",
        "outputId": "3630e02b-9915-4150-ea98-ce6b2ab94f71"
      },
      "execution_count": 2,
      "outputs": [
        {
          "output_type": "stream",
          "name": "stdout",
          "text": [
            "Requirement already satisfied: nltk in /usr/local/lib/python3.10/dist-packages (3.9.1)\n",
            "Requirement already satisfied: click in /usr/local/lib/python3.10/dist-packages (from nltk) (8.1.7)\n",
            "Requirement already satisfied: joblib in /usr/local/lib/python3.10/dist-packages (from nltk) (1.4.2)\n",
            "Requirement already satisfied: regex>=2021.8.3 in /usr/local/lib/python3.10/dist-packages (from nltk) (2024.11.6)\n",
            "Requirement already satisfied: tqdm in /usr/local/lib/python3.10/dist-packages (from nltk) (4.67.1)\n"
          ]
        }
      ]
    },
    {
      "cell_type": "code",
      "source": [
        "from nltk.tokenize import sent_tokenize"
      ],
      "metadata": {
        "id": "2yv03UOrUrz1"
      },
      "execution_count": 3,
      "outputs": []
    },
    {
      "cell_type": "markdown",
      "source": [
        "Convert to Token"
      ],
      "metadata": {
        "id": "04v3pLLNuvJ2"
      }
    },
    {
      "cell_type": "code",
      "source": [
        "sent_tokens"
      ],
      "metadata": {
        "colab": {
          "base_uri": "https://localhost:8080/"
        },
        "id": "Mdq-z14OwY78",
        "outputId": "691de041-0a33-4a33-c688-aa6d0309acd2"
      },
      "execution_count": 7,
      "outputs": [
        {
          "output_type": "execute_result",
          "data": {
            "text/plain": [
              "[['This', 'is', 'a', 'Cute', 'Dog.', 'My', 'Cat', 'is', 'Cute']]"
            ]
          },
          "metadata": {},
          "execution_count": 7
        }
      ]
    },
    {
      "cell_type": "code",
      "source": [
        "model= Word2Vec(sent_tokens,min_count=1,vector_size=10)"
      ],
      "metadata": {
        "id": "LvGZwz6ZyVB9"
      },
      "execution_count": 8,
      "outputs": []
    },
    {
      "cell_type": "code",
      "source": [
        "import nltk\n",
        "nltk.download('punkt')"
      ],
      "metadata": {
        "colab": {
          "base_uri": "https://localhost:8080/"
        },
        "id": "wqrf-TzoXVAk",
        "outputId": "7dd001cf-8936-416c-e28b-8a7fcd6f3964"
      },
      "execution_count": 13,
      "outputs": [
        {
          "output_type": "stream",
          "name": "stderr",
          "text": [
            "[nltk_data] Downloading package punkt to /root/nltk_data...\n",
            "[nltk_data]   Package punkt is already up-to-date!\n"
          ]
        },
        {
          "output_type": "execute_result",
          "data": {
            "text/plain": [
              "True"
            ]
          },
          "metadata": {},
          "execution_count": 13
        }
      ]
    },
    {
      "cell_type": "code",
      "source": [
        "# Import necessary libraries\n",
        "from nltk.tokenize import sent_tokenize, word_tokenize\n",
        "from gensim.models import Word2Vec\n",
        "import nltk\n",
        "\n",
        "# Download the 'punkt_tab' resource if it's not already downloaded\n",
        "nltk.download('punkt_tab')\n",
        "\n",
        "# Sample text\n",
        "text = \"This is a cute Dog. My cat is Cute.\"\n",
        "\n",
        "# Sentence tokenization\n",
        "sentences = sent_tokenize(text)\n",
        "\n",
        "# Word tokenization for each sentence\n",
        "tokenized_sentences = [word_tokenize(sentence.lower()) for sentence in sentences]\n",
        "\n",
        "# Train a Word2Vec model\n",
        "model = Word2Vec(\n",
        "    sentences=tokenized_sentences,  # Input tokenized sentences\n",
        "    vector_size=50,                # Dimensionality of word vectors\n",
        "    window=5,                      # Context window size\n",
        "    min_count=1,                   # Minimum frequency for a word to be considered\n",
        "    workers=4                      # Number of threads\n",
        ")\n",
        "\n",
        "# Check similarity between words\n",
        "similarity_dog_cat = model.wv.similarity('dog', 'cat')\n",
        "similarity_is_cute = model.wv.similarity('is', 'cute')\n",
        "\n",
        "# Print the results\n",
        "print(f\"Similarity between 'Dog' and 'Cat': {similarity_dog_cat}\")\n",
        "print(f\"Similarity between 'is' and 'cute': {similarity_is_cute}\")"
      ],
      "metadata": {
        "colab": {
          "base_uri": "https://localhost:8080/"
        },
        "id": "cj5fj2u_Y027",
        "outputId": "0735a2d8-6397-443f-a538-954a6408b009"
      },
      "execution_count": 18,
      "outputs": [
        {
          "output_type": "stream",
          "name": "stderr",
          "text": [
            "[nltk_data] Downloading package punkt_tab to /root/nltk_data...\n",
            "[nltk_data]   Unzipping tokenizers/punkt_tab.zip.\n"
          ]
        },
        {
          "output_type": "stream",
          "name": "stdout",
          "text": [
            "Similarity between 'Dog' and 'Cat': -0.2091003954410553\n",
            "Similarity between 'is' and 'cute': 0.011071963235735893\n"
          ]
        }
      ]
    }
  ]
}